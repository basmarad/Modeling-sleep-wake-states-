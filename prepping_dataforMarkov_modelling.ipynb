{
 "cells": [
  {
   "cell_type": "markdown",
   "metadata": {},
   "source": [
    "## Code Aim\n",
    "Data was given in a sequence of bouts of different durations. The goal was to create a sequence of 5 sec long bouts of\n",
    "bouts to later pass this sequence to R Markov Package to fit the sequence and compute the probability transition matrix"
   ]
  },
  {
   "cell_type": "code",
   "execution_count": 1,
   "metadata": {},
   "outputs": [],
   "source": [
    "import numpy as np\n",
    "import matplotlib.pyplot as plt\n",
    "import pandas as pd\n",
    "import seaborn as sns\n",
    "import statsmodels.api as sm\n",
    "import glob\n",
    "import os"
   ]
  },
  {
   "cell_type": "code",
   "execution_count": 2,
   "metadata": {},
   "outputs": [],
   "source": [
    "os.chdir('/Users/bmr225/Documents/PythonCodes/Survival_Data')"
   ]
  },
  {
   "cell_type": "code",
   "execution_count": 3,
   "metadata": {},
   "outputs": [],
   "source": [
    "phenotype = ['Susceptible', 'Resilient', 'Control']\n",
    "phase = ['Light','Dark']\n",
    "condition = ['pre','post']\n",
    "\n",
    "# Loading the data\n",
    "def load_data(phenotype,phase,condition):\n",
    "    df = pd.read_csv(phenotype + \"_\"+ phase + \"_\" + condition + \"_grouped.csv\")\n",
    "    return df"
   ]
  },
  {
   "cell_type": "code",
   "execution_count": null,
   "metadata": {},
   "outputs": [],
   "source": [
    "for p in phenotype:\n",
    "    for ph in phase:\n",
    "        for c in condition:\n",
    "\n",
    "            df = load_data(p,ph,c)   \n",
    "\n",
    "\n",
    "            #Grouping by Mouse ID\n",
    "            df_grouped_dur = df.groupby('Mouse ID')['Duration'].apply(list)\n",
    "            df_grouped_state = df.groupby('Mouse ID')['State Number'].apply(list)\n",
    "\n",
    "            # Lists length\n",
    "            df_grouped_len =  df.groupby('Mouse ID')['Duration'].count()\n",
    "\n",
    "\n",
    "            state_dict = {}\n",
    "            \n",
    "            for i in range(len(df_grouped_dur)):\n",
    "                \n",
    "                #l_dur = [df_grouped_dur.iloc[i] for i in range(len(df_grouped_dur))]\n",
    "            \n",
    "                l_dur = df_grouped_dur.iloc[i] \n",
    "                l_state = df_grouped_state.iloc[i] \n",
    "    \n",
    "                 # making the shortest bout duration 5\n",
    "                l_dur =[5 if x<5 else x for x in l_dur]\n",
    "    \n",
    "    \n",
    "                new_l = []\n",
    "    \n",
    "                for j in range(len(l_dur)): \n",
    "                    repeats = l_dur[j]//5\n",
    "                    repeat_l = [l_state[j]]*repeats\n",
    "                    new_l.append(repeat_l)\n",
    "     \n",
    "    \n",
    "                new_l= sum(new_l,[]) \n",
    "    \n",
    "                # Need to pad this list with NA based on the longest list in df_grouped_len\n",
    "   \n",
    "                state_dict.update({i:new_l})\n",
    "\n",
    "                # To generate a dataframe of different lengths of observations for each column\n",
    "                state_seq_df = pd.DataFrame.from_dict(state_dict, orient='index').T\n",
    "\n",
    "            \n",
    "\n",
    "                # Changing the number to state\n",
    "                ###############################\n",
    "                labels={1:'Wake',2:'NREM', 4:'REM'}\n",
    "                for col in state_seq_df.columns:\n",
    "                    state_seq_df[col] = state_seq_df[col].map(labels)\n",
    "               \n",
    "                filename = 'Markov_seq_'+ p + c +  ph +'.csv'\n",
    "                state_seq_df.to_csv(filename,index = False)\n"
   ]
  },
  {
   "cell_type": "code",
   "execution_count": null,
   "metadata": {},
   "outputs": [],
   "source": []
  },
  {
   "cell_type": "code",
   "execution_count": null,
   "metadata": {},
   "outputs": [],
   "source": []
  },
  {
   "cell_type": "code",
   "execution_count": null,
   "metadata": {},
   "outputs": [],
   "source": []
  }
 ],
 "metadata": {
  "kernelspec": {
   "display_name": "Python 3",
   "language": "python",
   "name": "python3"
  },
  "language_info": {
   "codemirror_mode": {
    "name": "ipython",
    "version": 3
   },
   "file_extension": ".py",
   "mimetype": "text/x-python",
   "name": "python",
   "nbconvert_exporter": "python",
   "pygments_lexer": "ipython3",
   "version": "3.7.4"
  }
 },
 "nbformat": 4,
 "nbformat_minor": 4
}
